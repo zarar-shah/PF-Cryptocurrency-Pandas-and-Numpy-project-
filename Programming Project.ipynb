{
 "cells": [
  {
   "cell_type": "code",
   "execution_count": 6,
   "metadata": {},
   "outputs": [
    {
     "name": "stdout",
     "output_type": "stream",
     "text": [
      "\n",
      "TOP 10 CRYPTOCURRENCIES OF 2018\n",
      " \n",
      "\n",
      "Rate graph of top cryptocurrencies you want to know are: \n",
      " \n",
      " ['Bitcoin', 'Ethereum', 'EOS', 'Litecoin', 'Zcash', 'Bitcoincash', 'Dash', 'NEO', 'Augur', 'Monero'] \n",
      "\n",
      "Please enter a cryptocurrency name from the above mentioned list: Bitcoin\n"
     ]
    },
    {
     "data": {
      "image/png": "[encoded data removed]",
      "text/plain": [
       "<Figure size 432x288 with 1 Axes>"
      ]
     },
     "metadata": {
      "needs_background": "light"
     },
     "output_type": "display_data"
    }
   ],
   "source": [
    "import csv\n",
    "import pandas as pd \n",
    "from matplotlib import pyplot as plt\n",
    "\n",
    "print(\"\\nTOP 10 CRYPTOCURRENCIES OF 2018\\n \")\n",
    "\n",
    "crypto_list=['Bitcoin', 'Ethereum', 'EOS', 'Litecoin', 'Zcash', 'Bitcoincash', 'Dash', 'NEO', 'Augur', 'Monero']\n",
    "\n",
    "print(\"\\nRate graph of top cryptocurrencies you want to know are: \\n\", \"\\n\", crypto_list, \"\\n\")\n",
    "\n",
    "crypto_input= str(input(\"Please enter a cryptocurrency name from the above mentioned list: \"))\n",
    "\n",
    "crypto_data = pd.read_csv(\"btc.csv\")\n",
    "\n",
    "\n",
    "def crypto_currencies(crypto_input):\n",
    "    if crypto_input == 'Bitcoin':\n",
    "        btc = crypto_data[crypto_data.CryptocurrencyName == 'Bitcoin']\n",
    "        plt.barh(btc.Month, btc.price)\n",
    "        plt.xlabel(\"Prices $\")\n",
    "        plt.ylabel(\"Months\")\n",
    "        plt.title(\"BITCOIN Graph\")\n",
    "        plt.show()\n",
    "        \n",
    "    elif crypto_input == 'Ethereum':\n",
    "        eth = crypto_data[crypto_data.CryptocurrencyName == 'Ethereum']\n",
    "        plt.barh(eth.Month, eth.price, color = 'red')\n",
    "        plt.xlabel(\"Prices $\")\n",
    "        plt.ylabel(\"Months\")\n",
    "        plt.title(\"ETHEREUM Graph\")\n",
    "        plt.show()\n",
    "        \n",
    "    elif crypto_input == 'EOS':\n",
    "        eos = crypto_data[crypto_data.CryptocurrencyName == 'EOS']\n",
    "        plt.barh(eos.Month, eos.price, color = 'purple')\n",
    "        plt.xlabel(\"Prices $\")\n",
    "        plt.ylabel(\"Months\")\n",
    "        plt.title(\"EOS Graph\")\n",
    "        plt.show()\n",
    "        \n",
    "    elif crypto_input == 'Litecoin':\n",
    "        ltc = crypto_data[crypto_data.CryptocurrencyName == 'Litecoin']\n",
    "        plt.barh(ltc.Month, ltc.price, color = 'yellow')\n",
    "        plt.xlabel(\"Prices $\")\n",
    "        plt.ylabel(\"Months\")\n",
    "        plt.title(\"LITECOIN Graph\")\n",
    "        plt.show()\n",
    "        \n",
    "    elif crypto_input == 'Zcash':\n",
    "        zc = crypto_data[crypto_data.CryptocurrencyName == 'Zcash']\n",
    "        plt.barh(zc.Month, zc.price, color = 'green')\n",
    "        plt.xlabel(\"Prices $\")\n",
    "        plt.ylabel(\"Months\")\n",
    "        plt.title(\"ZCASH Graph\")\n",
    "        plt.show()\n",
    "        \n",
    "    elif crypto_input == 'Bitcoincash':\n",
    "        bch = crypto_data[crypto_data.CryptocurrencyName == 'Bitcoincash']\n",
    "        plt.barh(bch.Month, bch.price, color = 'red')\n",
    "        plt.xlabel(\"Prices $\")\n",
    "        plt.ylabel(\"Months\")\n",
    "        plt.title(\"BITCOINCASH Graph\")\n",
    "        plt.show()\n",
    "        \n",
    "    elif crypto_input == 'Dash':\n",
    "        dsh = crypto_data[crypto_data.CryptocurrencyName == 'Dash']\n",
    "        plt.barh(dsh.Month, dsh.price, color = 'pink')\n",
    "        plt.xlabel(\"Prices $\")\n",
    "        plt.ylabel(\"Months\")\n",
    "        plt.title(\"DASH Graph\")\n",
    "        plt.show()\n",
    "        \n",
    "    elif crypto_input == 'NEO':\n",
    "        neo = crypto_data[crypto_data.CryptocurrencyName == 'NEO']\n",
    "        plt.barh(neo.Month, neo.price, color = 'black')\n",
    "        plt.xlabel(\"Prices $\")\n",
    "        plt.ylabel(\"Months\")\n",
    "        plt.title(\"NEO Graph\")\n",
    "        plt.show()\n",
    "        \n",
    "    elif crypto_input == 'Augur':\n",
    "        agr = crypto_data[crypto_data.CryptocurrencyName == 'Augur']\n",
    "        plt.barh(agr.Month, agr.price, color = 'brown')\n",
    "        plt.xlabel(\"Prices $\")\n",
    "        plt.ylabel(\"Months\")\n",
    "        plt.title(\"AUGUR Graph\")\n",
    "        plt.show()\n",
    "        \n",
    "    elif crypto_input == 'Monero':\n",
    "        mon = crypto_data[crypto_data.CryptocurrencyName == 'Monero']\n",
    "        plt.barh(mon.Month, mon.price, color = 'green')\n",
    "        plt.xlabel(\"Prices $\")\n",
    "        plt.ylabel(\"Months\")\n",
    "        plt.title(\"MONERO Graph\")\n",
    "        plt.show()\n",
    "        \n",
    "    else:\n",
    "        print(\"Incorrect input or enter a valid cryptocurrency name from the above mentioned list! \")\n",
    "        \n",
    "        \n",
    "           \n",
    "crypto_currencies(crypto_input)\n",
    "                    \n"
   ]
  },
  {
   "cell_type": "code",
   "execution_count": null,
   "metadata": {},
   "outputs": [],
   "source": []
  },
  {
   "cell_type": "code",
   "execution_count": null,
   "metadata": {},
   "outputs": [],
   "source": []
  }
 ],
 "metadata": {
  "kernelspec": {
   "display_name": "Python 3",
   "language": "python",
   "name": "python3"
  },
  "language_info": {
   "codemirror_mode": {
    "name": "ipython",
    "version": 3
   },
   "file_extension": ".py",
   "mimetype": "text/x-python",
   "name": "python",
   "nbconvert_exporter": "python",
   "pygments_lexer": "ipython3",
   "version": "3.7.0"
  }
 },
 "nbformat": 4,
 "nbformat_minor": 2
}
